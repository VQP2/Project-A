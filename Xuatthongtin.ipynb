{
 "cells": [
  {
   "cell_type": "code",
   "execution_count": 1,
   "id": "9a8a87ff",
   "metadata": {},
   "outputs": [
    {
     "name": "stdout",
     "output_type": "stream",
     "text": [
      "Họ Và Tên Phạm Quốc Việt\n"
     ]
    }
   ],
   "source": [
    "print(\"Họ Và Tên Phạm Quốc Việt\")"
   ]
  },
  {
   "cell_type": "code",
   "execution_count": 2,
   "id": "ac0a4a70",
   "metadata": {},
   "outputs": [
    {
     "name": "stdout",
     "output_type": "stream",
     "text": [
      "Ngày Tháng Năm sinh 27/05/2002\n"
     ]
    }
   ],
   "source": [
    "print(\"Ngày Tháng Năm sinh 27/05/2002\")"
   ]
  },
  {
   "cell_type": "code",
   "execution_count": null,
   "id": "2a6694ff",
   "metadata": {},
   "outputs": [],
   "source": []
  }
 ],
 "metadata": {
  "kernelspec": {
   "display_name": "Python 3 (ipykernel)",
   "language": "python",
   "name": "python3"
  },
  "language_info": {
   "codemirror_mode": {
    "name": "ipython",
    "version": 3
   },
   "file_extension": ".py",
   "mimetype": "text/x-python",
   "name": "python",
   "nbconvert_exporter": "python",
   "pygments_lexer": "ipython3",
   "version": "3.9.7"
  }
 },
 "nbformat": 4,
 "nbformat_minor": 5
}
